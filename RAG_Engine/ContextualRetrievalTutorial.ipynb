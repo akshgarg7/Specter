{
  "cells": [
    {
      "cell_type": "code",
      "execution_count": 1,
      "metadata": {
        "id": "Drc1_qratH_W"
      },
      "outputs": [
        {
          "name": "stderr",
          "output_type": "stream",
          "text": [
            "/Users/akshgarg/miniforge3/envs/router/lib/python3.10/site-packages/pinecone/data/index.py:1: TqdmWarning: IProgress not found. Please update jupyter and ipywidgets. See https://ipywidgets.readthedocs.io/en/stable/user_install.html\n",
            "  from tqdm.autonotebook import tqdm\n"
          ]
        }
      ],
      "source": [
        "import hashlib\n",
        "import os\n",
        "import getpass\n",
        "from typing import List, Tuple\n",
        "from dotenv import load_dotenv\n",
        "from langchain.text_splitter import RecursiveCharacterTextSplitter\n",
        "from langchain.schema import Document\n",
        "from langchain.embeddings import OpenAIEmbeddings\n",
        "from langchain.vectorstores import FAISS\n",
        "from langchain_openai import ChatOpenAI\n",
        "from langchain.prompts import ChatPromptTemplate\n",
        "from rank_bm25 import BM25Okapi\n",
        "from pinecone import Pinecone, ServerlessSpec\n",
        "import concurrent\n",
        "from openai import OpenAI\n",
        "from contextual_retriever import ContextualRetrieval\n",
        "pc = Pinecone(api_key=os.getenv(\"PINECONE_API_KEY\"))"
      ]
    },
    {
      "cell_type": "code",
      "execution_count": 2,
      "metadata": {
        "id": "enXaQdECttMI"
      },
      "outputs": [],
      "source": [
        "# Example financial document (approximately 5000 words, keyword-rich)\n",
        "document = \"\"\"\n",
        "    Tesla, Inc. (TSLA) Financial Analysis and Market Overview - Q3 2023\n",
        "\n",
        "    Executive Summary:\n",
        "    Tesla, Inc. (NASDAQ: TSLA) continues to lead the electric vehicle (EV) market, showcasing strong financial performance and strategic growth initiatives in Q3 2023. This comprehensive analysis delves into Tesla's financial statements, market position, and future outlook, providing investors and stakeholders with crucial insights into the company's performance and potential.\n",
        "\n",
        "    1. Financial Performance Overview:\n",
        "\n",
        "    Revenue:\n",
        "    Tesla reported total revenue of $23.35 billion in Q3 2023, marking a 9% increase year-over-year (YoY) from $21.45 billion in Q3 2022. The automotive segment remained the primary revenue driver, contributing $19.63 billion, up 5% YoY. Energy generation and storage revenue saw significant growth, reaching $1.56 billion, a 40% increase YoY.\n",
        "\n",
        "    Profitability:\n",
        "    Gross profit for Q3 2023 stood at $4.18 billion, with a gross margin of 17.9%. While this represents a decrease from the 25.1% gross margin in Q3 2022, it remains above industry averages. Operating income was $1.76 billion, resulting in an operating margin of 7.6%. Net income attributable to common stockholders was $1.85 billion, translating to diluted earnings per share (EPS) of $0.53.\n",
        "\n",
        "    Cash Flow and Liquidity:\n",
        "    Tesla's cash and cash equivalents at the end of Q3 2023 were $26.08 billion, a robust position that provides ample liquidity for ongoing operations and future investments. Free cash flow for the quarter was $0.85 billion, reflecting the company's ability to generate cash despite significant capital expenditures.\n",
        "\n",
        "    2. Operational Highlights:\n",
        "\n",
        "    Production and Deliveries:\n",
        "    Tesla produced 430,488 vehicles in Q3 2023, a 17% increase YoY. The Model 3/Y accounted for 419,666 units, while the Model S/X contributed 10,822 units. Total deliveries reached 435,059 vehicles, up 27% YoY, demonstrating strong demand and improved production efficiency.\n",
        "\n",
        "    Manufacturing Capacity:\n",
        "    The company's installed annual vehicle production capacity increased to over 2 million units across its factories in Fremont, Shanghai, Berlin-Brandenburg, and Texas. The Shanghai Gigafactory remains the highest-volume plant, with an annual capacity exceeding 950,000 units.\n",
        "\n",
        "    Energy Business:\n",
        "    Tesla's energy storage deployments grew by 90% YoY, reaching 4.0 GWh in Q3 2023. Solar deployments also increased by 48% YoY to 106 MW, reflecting growing demand for Tesla's energy products.\n",
        "\n",
        "    3. Market Position and Competitive Landscape:\n",
        "\n",
        "    Global EV Market Share:\n",
        "    Tesla maintained its position as the world's largest EV manufacturer by volume, with an estimated global market share of 18% in Q3 2023. However, competition is intensifying, particularly from Chinese manufacturers like BYD and established automakers accelerating their EV strategies.\n",
        "\n",
        "    Brand Strength:\n",
        "    Tesla's brand value continues to grow, ranked as the 12th most valuable brand globally by Interbrand in 2023, with an estimated brand value of $56.3 billion, up 4% from 2022.\n",
        "\n",
        "    Technology Leadership:\n",
        "    The company's focus on innovation, particularly in battery technology and autonomous driving capabilities, remains a key differentiator. Tesla's Full Self-Driving (FSD) beta program has expanded to over 800,000 customers in North America, showcasing its advanced driver assistance systems.\n",
        "\n",
        "    4. Strategic Initiatives and Future Outlook:\n",
        "\n",
        "    Product Roadmap:\n",
        "    Tesla reaffirmed its commitment to launching the Cybertruck in 2023, with initial deliveries expected in Q4. The company also hinted at progress on a next-generation vehicle platform, aimed at significantly reducing production costs.\n",
        "\n",
        "    Expansion Plans:\n",
        "    Plans for a new Gigafactory in Mexico are progressing, with production expected to commence in 2025. This facility will focus on producing Tesla's next-generation vehicles and expand the company's North American manufacturing footprint.\n",
        "\n",
        "    Battery Production:\n",
        "    Tesla continues to ramp up its in-house battery cell production, with 4680 cells now being used in Model Y vehicles produced at the Texas Gigafactory. The company aims to achieve an annual production rate of 1,000 GWh by 2030.\n",
        "\n",
        "    5. Risk Factors and Challenges:\n",
        "\n",
        "    Supply Chain Constraints:\n",
        "    While easing compared to previous years, supply chain issues continue to pose challenges, particularly in sourcing semiconductor chips and raw materials for batteries.\n",
        "\n",
        "    Regulatory Environment:\n",
        "    Evolving regulations around EVs, autonomous driving, and data privacy across different markets could impact Tesla's operations and expansion plans.\n",
        "\n",
        "    Macroeconomic Factors:\n",
        "    Rising interest rates and inflationary pressures may affect consumer demand for EVs and impact Tesla's profit margins.\n",
        "\n",
        "    Competition:\n",
        "    Intensifying competition in the EV market, especially in key markets like China and Europe, could pressure Tesla's market share and pricing power.\n",
        "\n",
        "    6. Financial Ratios and Metrics:\n",
        "\n",
        "    Profitability Ratios:\n",
        "    - Return on Equity (ROE): 18.2%\n",
        "    - Return on Assets (ROA): 10.3%\n",
        "    - EBITDA Margin: 15.7%\n",
        "\n",
        "    Liquidity Ratios:\n",
        "    - Current Ratio: 1.73\n",
        "    - Quick Ratio: 1.25\n",
        "\n",
        "    Efficiency Ratios:\n",
        "    - Asset Turnover Ratio: 0.88\n",
        "    - Inventory Turnover Ratio: 11.2\n",
        "\n",
        "    Valuation Metrics:\n",
        "    - Price-to-Earnings (P/E) Ratio: 70.5\n",
        "    - Price-to-Sales (P/S) Ratio: 7.8\n",
        "    - Enterprise Value to EBITDA (EV/EBITDA): 41.2\n",
        "\n",
        "    7. Segment Analysis:\n",
        "\n",
        "    Automotive Segment:\n",
        "    - Revenue: $19.63 billion (84% of total revenue)\n",
        "    - Gross Margin: 18.9%\n",
        "    - Key Products: Model 3, Model Y, Model S, Model X\n",
        "\n",
        "    Energy Generation and Storage:\n",
        "    - Revenue: $1.56 billion (7% of total revenue)\n",
        "    - Gross Margin: 14.2%\n",
        "    - Key Products: Powerwall, Powerpack, Megapack, Solar Roof\n",
        "\n",
        "    Services and Other:\n",
        "    - Revenue: $2.16 billion (9% of total revenue)\n",
        "    - Gross Margin: 5.3%\n",
        "    - Includes vehicle maintenance, repair, and used vehicle sales\n",
        "\n",
        "    8. Geographic Revenue Distribution:\n",
        "\n",
        "    - United States: $12.34 billion (53% of total revenue)\n",
        "    - China: $4.67 billion (20% of total revenue)\n",
        "    - Europe: $3.97 billion (17% of total revenue)\n",
        "    - Other: $2.37 billion (10% of total revenue)\n",
        "\n",
        "    9. Research and Development:\n",
        "\n",
        "    Tesla invested $1.16 billion in R&D during Q3 2023, representing 5% of total revenue. Key focus areas include:\n",
        "    - Next-generation vehicle platform development\n",
        "    - Advancements in battery technology and production processes\n",
        "    - Enhancements to Full Self-Driving (FSD) capabilities\n",
        "    - Energy storage and solar technology improvements\n",
        "\n",
        "    10. Capital Expenditures and Investments:\n",
        "\n",
        "    Capital expenditures for Q3 2023 totaled $2.46 billion, primarily allocated to:\n",
        "    - Expansion and upgrades of production facilities\n",
        "    - Tooling for new products, including the Cybertruck\n",
        "    - Supercharger network expansion\n",
        "    - Investments in battery cell production capacity\n",
        "\n",
        "    11. Debt and Capital Structure:\n",
        "\n",
        "    As of September 30, 2023:\n",
        "    - Total Debt: $5.62 billion\n",
        "    - Total Equity: $43.51 billion\n",
        "    - Debt-to-Equity Ratio: 0.13\n",
        "    - Weighted Average Cost of Capital (WACC): 8.7%\n",
        "\n",
        "    12. Stock Performance and Shareholder Returns:\n",
        "\n",
        "    - 52-Week Price Range: $152.37 - $299.29\n",
        "    - Market Capitalization: $792.5 billion (as of October 31, 2023)\n",
        "    - Dividend Policy: Tesla does not currently pay dividends, reinvesting profits into growth initiatives\n",
        "    - Share Repurchases: No significant share repurchases in Q3 2023\n",
        "\n",
        "    13. Corporate Governance and Sustainability:\n",
        "\n",
        "    Board Composition:\n",
        "    Tesla's Board of Directors consists of 8 members, with 6 independent directors. The roles of CEO and Chairman are separate, with Robyn Denholm serving as Chairwoman.\n",
        "\n",
        "    ESG Initiatives:\n",
        "    - Environmental: Committed to using 100% renewable energy in all operations by 2030\n",
        "    - Social: Focus on diversity and inclusion, with women representing 29% of the global workforce\n",
        "    - Governance: Enhanced transparency in supply chain management and ethical sourcing of materials\n",
        "\n",
        "    14. Analyst Recommendations and Price Targets:\n",
        "\n",
        "    As of October 31, 2023:\n",
        "    - Buy: 22 analysts\n",
        "    - Hold: 15 analysts\n",
        "    - Sell: 5 analysts\n",
        "    - Average 12-month price target: $245.67\n",
        "\n",
        "    15. Upcoming Catalysts and Events:\n",
        "\n",
        "    - Cybertruck production ramp-up and initial deliveries (Q4 2023)\n",
        "    - Investor Day 2024 (Date TBA)\n",
        "    - Potential unveiling of next-generation vehicle platform (2024)\n",
        "    - Expansion of FSD beta program to additional markets\n",
        "\n",
        "    Conclusion:\n",
        "    Tesla's Q3 2023 financial results demonstrate the company's continued leadership in the EV market, with strong revenue growth and operational improvements. While facing increased competition and margin pressures, Tesla's robust balance sheet, technological innovations, and expanding product portfolio position it well for future growth. Investors should monitor key metrics such as production ramp-up, margin trends, and progress on strategic initiatives to assess Tesla's long-term value proposition in the rapidly evolving automotive and energy markets.\n",
        "    \"\"\""
      ]
    },
    {
      "cell_type": "code",
      "execution_count": 3,
      "metadata": {
        "id": "wfbMsk2it90s"
      },
      "outputs": [],
      "source": [
        "# Initialize ContextualRetrieval\n",
        "cr = ContextualRetrieval()"
      ]
    },
    {
      "cell_type": "code",
      "execution_count": 4,
      "metadata": {
        "id": "rfsamSeAuE5b"
      },
      "outputs": [
        {
          "name": "stdout",
          "output_type": "stream",
          "text": [
            "Time taken to split document into chunks: 0.0002739429473876953 seconds\n",
            "Time taken to generate contextualized chunks: 5.27329683303833 seconds\n"
          ]
        }
      ],
      "source": [
        "# Process the document\n",
        "original_chunks, contextualized_chunks = cr.process_document(document[:10000])"
      ]
    },
    {
      "cell_type": "code",
      "execution_count": 5,
      "metadata": {},
      "outputs": [
        {
          "name": "stdout",
          "output_type": "stream",
          "text": [
            "Upserting batch 1 of 1\n",
            "{'id': '1',\n",
            " 'metadata': {'text': \"The chunk provides a detailed overview of Tesla's \"\n",
            "                      'financial performance in Q3 2023, specifically focusing '\n",
            "                      'on revenue growth and contributions from different '\n",
            "                      'segments, and is situated within the broader financial '\n",
            "                      'analysis and market overview section of the document.\\n'\n",
            "                      '\\n'\n",
            "                      '1. Financial Performance Overview:\\n'\n",
            "                      '\\n'\n",
            "                      '    Revenue:\\n'\n",
            "                      '    Tesla reported total revenue of $23.35 billion in '\n",
            "                      'Q3 2023, marking a 9% increase year-over-year (YoY) '\n",
            "                      'from $21.45 billion in Q3 2022. The automotive segment '\n",
            "                      'remained the primary revenue driver, contributing '\n",
            "                      '$19.63 billion, up 5% YoY. Energy generation and '\n",
            "                      'storage revenue saw significant growth, reaching $1.56 '\n",
            "                      'billion, a 40% increase YoY.'},\n",
            " 'score': 0.70058316,\n",
            " 'values': []}\n"
          ]
        }
      ],
      "source": [
        "# Create Pinecone indexes\n",
        "cr.create_pinecone_index(\"contextual-summary\", contextualized_chunks)\n",
        "\n",
        "# Retrieve from Pinecone\n",
        "results = cr.query_pinecone_index(\"contextual-summary\", \"What was Tesla's total revenue in Q3 2023?\", top_k=3, include_values=False, include_metadata=True)\n",
        "print(results[0])"
      ]
    },
    {
      "cell_type": "code",
      "execution_count": 6,
      "metadata": {
        "colab": {
          "base_uri": "https://localhost:8080/"
        },
        "id": "WNtr07mQvK2q",
        "outputId": "6ef794ff-de3c-4183-d2b2-e1182cabf085"
      },
      "outputs": [
        {
          "name": "stdout",
          "output_type": "stream",
          "text": [
            "Processed 15 chunks\n",
            "Cache key for the document: 8bc3e18738fe5e65f23ecc719972feb8\n"
          ]
        }
      ],
      "source": [
        "cache_key = cr.generate_cache_key(document)\n",
        "print(f\"Processed {len(original_chunks)} chunks\")\n",
        "print(f\"Cache key for the document: {cache_key}\")"
      ]
    },
    {
      "cell_type": "code",
      "execution_count": 7,
      "metadata": {
        "id": "UO_8MqR1vPIF"
      },
      "outputs": [],
      "source": [
        "# Example queries related to financial information\n",
        "queries = [\n",
        "        \"What was Tesla's total revenue in Q3 2023? what was the gross profit and cash position?\",\n",
        "        \"How does the automotive gross margin in Q3 2023 compare to the previous year?\",\n",
        "        \"What is Tesla's current debt-to-equity ratio?\",\n",
        "        \"How much did Tesla invest in R&D during Q3 2023?\",\n",
        "        \"What is Tesla's market share in the global EV market for Q3 2023?\"\n",
        "    ]"
      ]
    },
    {
      "cell_type": "code",
      "execution_count": 8,
      "metadata": {
        "colab": {
          "base_uri": "https://localhost:8080/"
        },
        "id": "rkwJ5iTgvYHE",
        "outputId": "eaad7a49-ed03-4106-b84a-71ef09004e37"
      },
      "outputs": [
        {
          "name": "stdout",
          "output_type": "stream",
          "text": [
            "\n",
            "Query: What was Tesla's total revenue in Q3 2023? what was the gross profit and cash position?\n",
            "Tesla's total revenue in Q3 2023 was $23.35 billion. The gross profit for the quarter was $4.18 billion, and the cash position at the end of Q3 2023 was $26.08 billion.\n",
            "\n",
            "==================================================\n",
            "\n",
            "Query: How does the automotive gross margin in Q3 2023 compare to the previous year?\n",
            "The automotive gross margin in Q3 2023 was 17.9%, which represents a decrease from the 25.1% gross margin in Q3 2022.\n",
            "\n",
            "==================================================\n",
            "\n",
            "Query: What is Tesla's current debt-to-equity ratio?\n",
            "Tesla's current debt-to-equity ratio is 0.13.\n",
            "\n",
            "==================================================\n",
            "\n",
            "Query: How much did Tesla invest in R&D during Q3 2023?\n",
            "Tesla invested $1.16 billion in R&D during Q3 2023.\n",
            "\n",
            "==================================================\n",
            "\n",
            "Query: What is Tesla's market share in the global EV market for Q3 2023?\n",
            "Tesla's market share in the global EV market for Q3 2023 is estimated to be 18%.\n",
            "\n",
            "==================================================\n"
          ]
        }
      ],
      "source": [
        "for query in queries:\n",
        "        print(f\"\\nQuery: {query}\")\n",
        "\n",
        "        vector_results = cr.query_pinecone_index(\"contextual-summary\", query, top_k=3)\n",
        "        agent_answer = cr.generate_answer(query, [doc['metadata']['text'] for doc in vector_results])\n",
        "        print(agent_answer)\n",
        "\n",
        "        print(\"\\n\" + \"=\"*50)\n"
      ]
    }
  ],
  "metadata": {
    "colab": {
      "provenance": []
    },
    "kernelspec": {
      "display_name": "Python 3",
      "name": "python3"
    },
    "language_info": {
      "codemirror_mode": {
        "name": "ipython",
        "version": 3
      },
      "file_extension": ".py",
      "mimetype": "text/x-python",
      "name": "python",
      "nbconvert_exporter": "python",
      "pygments_lexer": "ipython3",
      "version": "3.10.14"
    }
  },
  "nbformat": 4,
  "nbformat_minor": 0
}
